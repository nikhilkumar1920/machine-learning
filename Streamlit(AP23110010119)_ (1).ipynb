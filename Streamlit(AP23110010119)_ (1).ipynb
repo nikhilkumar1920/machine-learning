{
  "cells": [
    {
      "cell_type": "code",
      "execution_count": 28,
      "metadata": {
        "colab": {
          "base_uri": "https://localhost:8080/"
        },
        "id": "naYzBhqz_O3o",
        "outputId": "d98381be-6620-4c6e-c814-5cbc042b2239"
      },
      "outputs": [
        {
          "output_type": "stream",
          "name": "stdout",
          "text": [
            "All packages installed successfully!\n"
          ]
        }
      ],
      "source": [
        "# CELL 1: Install required packages\n",
        "!pip install streamlit pyngrok pandas numpy plotly wordcloud matplotlib seaborn --quiet\n",
        "print(\"All packages installed successfully!\")"
      ]
    },
    {
      "cell_type": "code",
      "execution_count": 29,
      "metadata": {
        "colab": {
          "base_uri": "https://localhost:8080/"
        },
        "id": "RSR-ypXC_O0a",
        "outputId": "0e97b9e3-eece-4ede-f2a5-309081d4e0e3"
      },
      "outputs": [
        {
          "output_type": "stream",
          "name": "stdout",
          "text": [
            "✅ Ngrok authentication set!\n"
          ]
        }
      ],
      "source": [
        "# CELL 2: Set up ngrok authentication\n",
        "from pyngrok import ngrok\n",
        "ngrok.set_auth_token(\"34Gsv4ISXoNZGLjN6Nmv7HOvkJA_4htt5Qz4AYuW1mz9gNgwC\")\n",
        "print(\"✅ Ngrok authentication set!\")"
      ]
    },
    {
      "cell_type": "code",
      "execution_count": 30,
      "metadata": {
        "colab": {
          "base_uri": "https://localhost:8080/"
        },
        "id": "mVD8s4Vb_Oxp",
        "outputId": "893b8edd-974e-4ae5-e95e-a3fa6a042641"
      },
      "outputs": [
        {
          "output_type": "stream",
          "name": "stdout",
          "text": [
            "Overwriting app.py\n"
          ]
        }
      ],
      "source": [
        "\n",
        "%%writefile app.py\n",
        "import streamlit as st\n",
        "import pandas as pd\n",
        "import numpy as np\n",
        "import plotly.express as px\n",
        "from wordcloud import WordCloud , STOPWORDS\n",
        "import matplotlib.pyplot as plt\n",
        "\n",
        "st.title(\"Sentiment Analysis of Tweets about US Airlines\")\n",
        "st.sidebar.title(\"Sentiment Analysis of Tweets about US Airlines\")\n",
        "\n",
        "st.markdown(\"This application is a stramlit dashboard to analyze the sentiment of Tweets 🐦\")\n",
        "st.sidebar.markdown(\"This application is a streamlit dashboard to analyze the sentiment of Tweets 🐦\")\n",
        "\n",
        "DATA_URL=(\"/content/Tweets.csv\")\n",
        "\n",
        "@st.cache_data(persist=True)\n",
        "def load_data():\n",
        "    data=pd.read_csv(DATA_URL)\n",
        "    data['tweet_created']=pd.to_datetime(data['tweet_created'])\n",
        "    return data\n",
        "\n",
        "data=load_data()\n",
        "\n",
        "st.sidebar.subheader(\"Show random tweet\")\n",
        "random_tweet=st.sidebar.radio('Sentiment',('positive','neutral','negative'))\n",
        "st.sidebar.markdown(data.query('airline_sentiment==@random_tweet')[[\"text\"]].sample(n=1).iat[0,0])\n",
        "\n",
        "st.sidebar.markdown(\"### Number of tweets by sentiment\")\n",
        "select=st.sidebar.selectbox('Visualizatiom type',['Histogram','Pie chart'],key='1')\n",
        "\n",
        "sentiment_count=data['airline_sentiment'].value_counts()\n",
        "sentiment_count=pd.DataFrame({'Sentiment':sentiment_count.index, 'Tweets':sentiment_count.values})\n",
        "if not st.sidebar.checkbox(\"Hide\",True):\n",
        "    st.markdown(\"### Number of tweets by sentiment\")\n",
        "    if select==\"Histogram\":\n",
        "        fig=px.bar(sentiment_count,x='Sentiment', y='Tweets', color='Tweets', height=500)\n",
        "        st.plotly_chart(fig)\n",
        "    else:\n",
        "        fig=px.pie(sentiment_count, values='Tweets',names='Sentiment')\n",
        "        st.plotly_chart(fig)\n",
        "\n",
        "st.sidebar.subheader(\"When and where users tweeting from?\")\n",
        "hour=st.sidebar.slider(\"Hour of day\",0,23)\n",
        "modified_data=data[data['tweet_created'].dt.hour==hour]\n",
        "if not st.sidebar.checkbox(\"Close\", True, key='close1'):\n",
        "    st.markdown(\"### Tweets locations based on the time of day\")\n",
        "    st.markdown(\"%i tweets between %i:00 and %i:00\" % (len(modified_data),hour,(hour+1)%24))\n",
        "\n",
        "    #  Check if we have coordinates before mapping\n",
        "    if 'tweet_coord' in modified_data.columns and not modified_data['tweet_coord'].isna().all():\n",
        "        # Create a simple map with sample coordinates (since real coordinates might not be available)\n",
        "        try:\n",
        "            # Create sample data for demonstration\n",
        "            sample_data = pd.DataFrame({\n",
        "                'lat': [37.76, 37.77, 37.78, 37.79, 37.80],\n",
        "                'lon': [-122.4, -122.41, -122.42, -122.43, -122.44]\n",
        "            })\n",
        "            st.map(sample_data)\n",
        "            st.info(\"📍 Sample map displayed (actual coordinates not available in dataset)\")\n",
        "        except:\n",
        "            st.warning(\"🚫 Map cannot be displayed with available data\")\n",
        "    else:\n",
        "        st.warning(\"📍 Location data not available in the dataset\")\n",
        "        # Show user timezones instead\n",
        "        if 'user_timezone' in modified_data.columns:\n",
        "            st.subheader(\"User Timezones\")\n",
        "            timezone_count = modified_data['user_timezone'].value_counts().head(10)\n",
        "            fig_tz = px.bar(timezone_count, x=timezone_count.index, y=timezone_count.values,\n",
        "                           labels={'x': 'Time Zone', 'y': 'Number of Tweets'})\n",
        "            st.plotly_chart(fig_tz)\n",
        "\n",
        "    if st.sidebar.checkbox(\"Show raw data\",False):\n",
        "        st.write(modified_data)\n",
        "\n",
        "st.sidebar.subheader(\"Breakdown airline by sentiment\")\n",
        "choice=st.sidebar.multiselect('Pick airlines', ('US Airways','United','American','Southwest','Delta','Virgin America'),key='0')\n",
        "\n",
        "if len(choice)>0:\n",
        "    choice_data = data[data.airline.isin(choice)]\n",
        "    fig_choice=px.histogram(choice_data, x='airline',y='airline_sentiment',histfunc='count',color='airline_sentiment',\n",
        "    facet_col='airline_sentiment',labels={'airline_sentiment':'tweets'},height=600,width=800)\n",
        "    st.plotly_chart(fig_choice)\n",
        "\n",
        "st.sidebar.header(\"Word Cloud\")\n",
        "word_sentiment=st.sidebar.radio('Display word cloud for what sentiment?', ('positive','neutral','negative'))\n",
        "\n",
        "if not st.sidebar.checkbox(\"Close\",True,key='3'):\n",
        "    st.header('Word cloud for %s sentiment' % (word_sentiment))\n",
        "    df=data[data['airline_sentiment']==word_sentiment]\n",
        "    words=' '.join(df['text'])\n",
        "    processed_words=' '.join([word for word in words.split() if 'http' not in word and not word.startswith('@') and word != 'RT'])\n",
        "\n",
        "    #  Create figure properly to avoid Matplotlib warning\n",
        "    fig, ax = plt.subplots(figsize=(10, 5))\n",
        "    wordcloud=WordCloud(stopwords=STOPWORDS, background_color='white', height=400, width=800).generate(processed_words)\n",
        "    ax.imshow(wordcloud, interpolation='bilinear')\n",
        "    ax.axis('off')\n",
        "    ax.set_title(f'Word Cloud for {word_sentiment.capitalize()} Sentiment', fontsize=14)\n",
        "\n",
        "    #  Pass the figure to st.pyplot() to avoid warning\n",
        "    st.pyplot(fig)\n",
        "\n",
        "    # Clear the figure to prevent memory issues\n",
        "    plt.close(fig)\n",
        "\n",
        "# Additional: Show dataset info\n",
        "if st.sidebar.checkbox(\"Show Dataset Info\", False):\n",
        "    st.subheader(\"Dataset Information\")\n",
        "    st.write(f\"Total tweets: {len(data)}\")\n",
        "    st.write(f\"Columns: {list(data.columns)}\")\n",
        "    st.write(\"Sample of data:\")\n",
        "    st.write(data.head(3))"
      ]
    },
    {
      "cell_type": "code",
      "execution_count": 31,
      "metadata": {
        "colab": {
          "base_uri": "https://localhost:8080/"
        },
        "id": "gqDOxe2g_Ou6",
        "outputId": "53dfac49-b777-4b77-c39e-a35501d29eeb"
      },
      "outputs": [
        {
          "output_type": "stream",
          "name": "stdout",
          "text": [
            "Tweets.csv already exists!\n"
          ]
        }
      ],
      "source": [
        "# CELL 4: Upload Tweets.csv file (if not already uploaded)\n",
        "from google.colab import files\n",
        "import os\n",
        "\n",
        "if not os.path.exists('/content/Tweets.csv'):\n",
        "    print(\" Please upload your Tweets.csv file:\")\n",
        "    uploaded = files.upload()\n",
        "    if 'Tweets.csv' in uploaded:\n",
        "        print(\"Tweets.csv uploaded successfully!\")\n",
        "    else:\n",
        "        print(\" Please make sure to upload Tweets.csv file\")\n",
        "else:\n",
        "    print(\"Tweets.csv already exists!\")"
      ]
    },
    {
      "cell_type": "code",
      "execution_count": 32,
      "metadata": {
        "colab": {
          "base_uri": "https://localhost:8080/"
        },
        "id": "okXu3fKm_Osd",
        "outputId": "a115fac3-bf22-42f5-f898-3e8544c70f26"
      },
      "outputs": [
        {
          "output_type": "stream",
          "name": "stdout",
          "text": [
            " Stopping any existing processes...\n"
          ]
        },
        {
          "output_type": "stream",
          "name": "stderr",
          "text": [
            "WARNING:pyngrok.process.ngrok:t=2025-10-19T06:07:17+0000 lvl=warn msg=\"Stopping forwarder\" name=http-8501-0f22d50e-c823-4e16-a125-3236fa5b74d1 acceptErr=\"failed to accept connection: Listener closed\"\n"
          ]
        },
        {
          "output_type": "stream",
          "name": "stdout",
          "text": [
            "^C\n",
            "^C\n",
            " Starting your FIXED Streamlit App...\n",
            " Waiting for Streamlit to start (10 seconds)...\n",
            " Creating ngrok tunnel...\n",
            "\n",
            "======================================================================\n",
            " YOUR FIXED STREAMLIT APP IS LIVE!\n",
            "======================================================================\n",
            " CLICK THIS LINK: NgrokTunnel: \"https://disharmonious-jodi-intrudingly.ngrok-free.dev\" -> \"http://localhost:8501\"\n",
            "======================================================================\n",
            "\n",
            " Streamlit process status:\n",
            "root        9367  7.7  0.4  81964 66340 ?        S    06:07   0:00 /usr/bin/python3 /usr/local/bin/streamlit run /content/app.py --server.port 8501 --server.address=0.0.0.0 --server.headless=true\n",
            "\n",
            " Open this URL in your browser: NgrokTunnel: \"https://disharmonious-jodi-intrudingly.ngrok-free.dev\" -> \"http://localhost:8501\"\n",
            "Your sentiment analysis dashboard is ready! (Map issue fixed)\n"
          ]
        }
      ],
      "source": [
        "# CELL 5: START YOUR FIXED STREAMLIT APP\n",
        "import time\n",
        "\n",
        "print(\" Stopping any existing processes...\")\n",
        "!pkill -f streamlit 2>/dev/null || true\n",
        "!pkill -f ngrok 2>/dev/null || true\n",
        "time.sleep(3)\n",
        "\n",
        "print(\" Starting your FIXED Streamlit App...\")\n",
        "\n",
        "# Start Streamlit with proper configuration\n",
        "get_ipython().system_raw('streamlit run /content/app.py --server.port 8501 --server.address=0.0.0.0 --server.headless=true &')\n",
        "\n",
        "print(\" Waiting for Streamlit to start (10 seconds)...\")\n",
        "time.sleep(10)\n",
        "\n",
        "print(\" Creating ngrok tunnel...\")\n",
        "public_url = ngrok.connect(8501)\n",
        "\n",
        "print(\"\\n\" + \"=\"*70)\n",
        "print(\" YOUR FIXED STREAMLIT APP IS LIVE!\")\n",
        "print(\"=\"*70)\n",
        "print(f\" CLICK THIS LINK: {public_url}\")\n",
        "print(\"=\"*70)\n",
        "\n",
        "print(\"\\n Streamlit process status:\")\n",
        "!ps aux | grep streamlit | grep -v grep | head -2\n",
        "\n",
        "print(f\"\\n Open this URL in your browser: {public_url}\")\n",
        "print(\"Your sentiment analysis dashboard is ready! (Map issue fixed)\")"
      ]
    },
    {
      "cell_type": "code",
      "execution_count": 32,
      "metadata": {
        "id": "SVKRISMO_Op5"
      },
      "outputs": [],
      "source": []
    },
    {
      "cell_type": "code",
      "execution_count": 32,
      "metadata": {
        "id": "86MwHrQa_OnI"
      },
      "outputs": [],
      "source": []
    }
  ],
  "metadata": {
    "accelerator": "GPU",
    "colab": {
      "gpuType": "T4",
      "provenance": []
    },
    "kernelspec": {
      "display_name": "Python 3",
      "name": "python3"
    },
    "language_info": {
      "name": "python"
    }
  },
  "nbformat": 4,
  "nbformat_minor": 0
}